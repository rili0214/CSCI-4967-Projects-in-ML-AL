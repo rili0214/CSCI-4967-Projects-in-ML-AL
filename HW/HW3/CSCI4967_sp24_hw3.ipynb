{
  "nbformat": 4,
  "nbformat_minor": 0,
  "metadata": {
    "colab": {
      "provenance": []
    },
    "kernelspec": {
      "name": "python3",
      "display_name": "Python 3"
    },
    "language_info": {
      "name": "python"
    }
  },
  "cells": [
    {
      "cell_type": "markdown",
      "source": [
        "# **CSCI 4967 Projects in AI/ML HW3**\n",
        "\n",
        "**Spring 2024**\n",
        "\n",
        "*Author: Yuming (Tao) Xie*"
      ],
      "metadata": {
        "id": "wwrpp_oZdZdW"
      }
    },
    {
      "cell_type": "markdown",
      "source": [
        "# &nbsp;Part 1"
      ],
      "metadata": {
        "id": "kzVwEdWMdtnu"
      }
    },
    {
      "cell_type": "code",
      "source": [
        "class NeuralNetwork:\n",
        "    def __init__(self, input_size, hidden_size, output_size, learning_rate=0.0001):\n",
        "        self.learning_rate = learning_rate\n",
        "        self.weights = [np.random.randn(hidden_size, input_size) * 0.01, np.random.randn(output_size, hidden_size) * 0.01]\n",
        "        self.biases = [np.zeros((hidden_size, 1)), np.zeros((output_size, 1))]\n",
        "\n",
        "    def sigmoid(self, Z):\n",
        "        return 1 / (1 + np.exp(-Z))\n",
        "\n",
        "    def relu(self, Z):\n",
        "        return np.maximum(0, Z)\n",
        "\n",
        "    def forward_propagation(self, X):\n",
        "        A = X\n",
        "        caches = []\n",
        "        for i in range(len(self.weights)):\n",
        "            Z = np.dot(self.weights[i], A) + self.biases[i]\n",
        "            if i != len(self.weights) - 1:\n",
        "                A = self.relu(Z)\n",
        "            else:\n",
        "                A = self.sigmoid(Z)\n",
        "            caches.append((A, Z))\n",
        "        return A, caches\n",
        "\n",
        "    def compute_cost(self, Y, A):\n",
        "        m = Y.shape[1]\n",
        "        epsilon = 1e-7\n",
        "        cost = -np.sum(Y * np.log(A + epsilon) + (1 - Y) * np.log(1 - A + epsilon)) / m\n",
        "        cost = np.squeeze(cost)\n",
        "        return cost\n",
        "\n",
        "    def backward_propagation(self, X, Y, caches):\n",
        "        grads = {}\n",
        "        m = X.shape[1]\n",
        "        Y = Y.reshape(caches[-1][0].shape)\n",
        "\n",
        "        dAL = -(np.divide(Y, caches[-1][0]) - np.divide(1 - Y, 1 - caches[-1][0]))\n",
        "        dZ = dAL * self.sigmoid(caches[-1][1]) * (1 - self.sigmoid(caches[-1][1]))\n",
        "        grads[\"dW2\"] = 1/m * np.dot(dZ, caches[0][0].T)\n",
        "        grads[\"db2\"] = 1/m * np.sum(dZ, axis=1, keepdims=True)\n",
        "\n",
        "        dA1 = np.dot(self.weights[1].T, dZ)\n",
        "        dZ1 = dA1 * (caches[0][1] > 0)\n",
        "        grads[\"dW1\"] = 1/m * np.dot(dZ1, X.T)\n",
        "        grads[\"db1\"] = 1/m * np.sum(dZ1, axis=1, keepdims=True)\n",
        "\n",
        "        return grads\n",
        "\n",
        "    def update(self, grads):\n",
        "        self.weights[0] -= self.learning_rate * grads[\"dW1\"]\n",
        "        self.biases[0] -= self.learning_rate * grads[\"db1\"]\n",
        "        self.weights[1] -= self.learning_rate * grads[\"dW2\"]\n",
        "        self.biases[1] -= self.learning_rate * grads[\"db2\"]\n",
        "\n",
        "    def train(self, X, Y, n_iterations=1000):\n",
        "        for i in range(n_iterations):\n",
        "            A, caches = self.forward_propagation(X)\n",
        "            cost = self.compute_cost(Y, A)\n",
        "            grads = self.backward_propagation(X, Y, caches)\n",
        "            self.update(grads)\n",
        "            if i % 200 == 0: print(f\"Iteration {i}: cost = {cost}\")\n",
        "\n",
        "    def predict(self, X):\n",
        "        A, _ = self.forward_propagation(X)\n",
        "        predictions = A > 0.5\n",
        "        return predictions"
      ],
      "metadata": {
        "id": "Zv8wpb1ydsyP"
      },
      "execution_count": 41,
      "outputs": []
    },
    {
      "cell_type": "code",
      "source": [
        "df['text'] = df['text'].astype(str)\n",
        "df['review_length'] = df['text'].apply(lambda x: len(x.split()))\n",
        "\n",
        "df['ratings'] = (df['ratings'] >= 3).astype(int)\n",
        "\n",
        "scaler = MinMaxScaler()\n",
        "X_user_id_normalized = scaler.fit_transform(X_user_id)\n",
        "X_item_id_normalized = scaler.fit_transform(X_item_id)\n",
        "X_review_length_normalized = scaler.fit_transform(df[['review_length']].values)\n",
        "\n",
        "X = np.hstack((X_user_id_normalized, X_item_id_normalized, X_review_length_normalized))\n",
        "y = df['ratings'].values\n",
        "\n",
        "\n",
        "X_train, X_test, y_train, y_test = split_df(X, y, test_size=0.3, random_state=42)\n",
        "\n",
        "input_size = X_train.shape[1]\n",
        "hidden_size = 16\n",
        "output_size = 1\n",
        "\n",
        "nn = NeuralNetwork(input_size, hidden_size, output_size)\n",
        "nn.train(X_train.T, y_train.reshape(1, -1), n_iterations=1000)\n",
        "y_pred = nn.predict(X_test.T)\n",
        "\n",
        "accuracy = np.mean(y_pred == y_test.reshape(1, -1))\n",
        "print(f\"Test Accuracy: {accuracy * 100:.2f}%\")"
      ],
      "metadata": {
        "colab": {
          "base_uri": "https://localhost:8080/"
        },
        "id": "9_cfcUQuDwK9",
        "outputId": "0cb854df-306f-42a5-c2b1-5d0dda963b49"
      },
      "execution_count": 33,
      "outputs": [
        {
          "output_type": "stream",
          "name": "stdout",
          "text": [
            "Iteration 0: cost = 0.6931610153178925\n",
            "Iteration 200: cost = 0.6455282491293843\n",
            "Iteration 400: cost = 0.6024201281070827\n",
            "Iteration 600: cost = 0.5633796750217644\n",
            "Iteration 800: cost = 0.527986120885821\n",
            "Test Accuracy: 100.00%\n"
          ]
        }
      ]
    },
    {
      "cell_type": "markdown",
      "source": [
        "I used batch gradient descent, since it is simple to implement and is reliable for the binary classification problems."
      ],
      "metadata": {
        "id": "oAzp4-Tl5KTO"
      }
    },
    {
      "cell_type": "markdown",
      "source": [
        "# &nbsp;Part 2"
      ],
      "metadata": {
        "id": "WObDrJZBd4pB"
      }
    },
    {
      "cell_type": "code",
      "source": [
        "from IPython.core.interactiveshell import InteractiveShell\n",
        "InteractiveShell.ast_node_interactivity = \"all\"\n",
        "import os\n",
        "import sys\n",
        "import json\n",
        "import gzip\n",
        "import math\n",
        "import joblib\n",
        "import random\n",
        "import scipy.sparse\n",
        "import pandas as pd\n",
        "import numpy as np\n",
        "import matplotlib.pyplot as plt\n",
        "import seaborn as sns\n",
        "from collections import deque\n",
        "from sklearn.model_selection import train_test_split as split_df\n",
        "from sklearn.preprocessing import MinMaxScaler, LabelEncoder\n",
        "from urllib.request import urlopen\n",
        "\n",
        "import warnings\n",
        "warnings.simplefilter('ignore')\n",
        "\n",
        "import tensorflow as tf\n",
        "from tensorflow.keras import layers, models\n",
        "\n",
        "%matplotlib inline"
      ],
      "metadata": {
        "id": "18ySiJX7b5ME"
      },
      "execution_count": 1,
      "outputs": []
    },
    {
      "cell_type": "code",
      "source": [
        "!wget https://datarepo.eng.ucsd.edu/mcauley_group/data/amazon_v2/categoryFiles/Sports_and_Outdoors.json.gz"
      ],
      "metadata": {
        "colab": {
          "base_uri": "https://localhost:8080/"
        },
        "id": "7epnPsY7cH_p",
        "outputId": "e5f454ab-8f66-4bce-895e-4cea085891ae"
      },
      "execution_count": 5,
      "outputs": [
        {
          "output_type": "stream",
          "name": "stdout",
          "text": [
            "--2024-02-09 19:55:29--  https://datarepo.eng.ucsd.edu/mcauley_group/data/amazon_v2/categoryFiles/Sports_and_Outdoors.json.gz\n",
            "Resolving datarepo.eng.ucsd.edu (datarepo.eng.ucsd.edu)... 132.239.8.30\n",
            "Connecting to datarepo.eng.ucsd.edu (datarepo.eng.ucsd.edu)|132.239.8.30|:443... connected.\n",
            "HTTP request sent, awaiting response... 200 OK\n",
            "Length: 1690448337 (1.6G) [application/x-gzip]\n",
            "Saving to: ‘Sports_and_Outdoors.json.gz’\n",
            "\n",
            "Sports_and_Outdoors 100%[===================>]   1.57G   187KB/s    in 1h 52m  \n",
            "\n",
            "2024-02-09 21:48:11 (244 KB/s) - ‘Sports_and_Outdoors.json.gz’ saved [1690448337/1690448337]\n",
            "\n"
          ]
        }
      ]
    },
    {
      "cell_type": "markdown",
      "source": [
        "# &nbsp;Task 1"
      ],
      "metadata": {
        "id": "ewHZf8U0fJ5h"
      }
    },
    {
      "cell_type": "markdown",
      "source": [
        "The resource are:\n",
        "1. https://www.tensorflow.org/tutorials\n",
        "2. https://www.tensorflow.org/guide/autodiff\n",
        "3. https://keras.io/guides/sequential_model/\n",
        "4. https://keras.io/api/models/model_training_apis/\n",
        "\n",
        " Implementing a 2-layer NN requires understanding model architecture, forward and backward propagation, loss computation, and optimization. These resources cover these tools and focus on the Tenserflow, including compiling the model, fitting it to the training data, evaluating its performance, and making predictions, leveraging Autograd for gradient computation, and optimization algorithms for model training,"
      ],
      "metadata": {
        "id": "-aR931tNfREx"
      }
    },
    {
      "cell_type": "markdown",
      "source": [
        "# &nbsp;Task 2"
      ],
      "metadata": {
        "id": "_C6z3roOfUzs"
      }
    },
    {
      "cell_type": "markdown",
      "source": [
        "# 2.1&nbsp;Load, Clean and Slice the dataset"
      ],
      "metadata": {
        "id": "IQb0s89VcoYK"
      }
    },
    {
      "cell_type": "code",
      "source": [
        "# Set the limit\n",
        "limit = 1000000\n",
        "counter = 0\n",
        "data = []"
      ],
      "metadata": {
        "id": "z4LHINlkch6T"
      },
      "execution_count": 2,
      "outputs": []
    },
    {
      "cell_type": "code",
      "source": [
        "### load the data\n",
        "with gzip.open('Sports_and_Outdoors.json.gz') as f:         #load the reviews data\n",
        "    for l in f:\n",
        "      data.append(json.loads(l.strip()))\n",
        "      counter+=1\n",
        "      if counter >= limit: break"
      ],
      "metadata": {
        "id": "_OP_0F3QcwOJ"
      },
      "execution_count": 3,
      "outputs": []
    },
    {
      "cell_type": "code",
      "source": [
        "df = pd.DataFrame.from_dict(data)"
      ],
      "metadata": {
        "id": "-JeDMpZwdTje"
      },
      "execution_count": 4,
      "outputs": []
    },
    {
      "cell_type": "code",
      "source": [
        "# check the missing values\n",
        "print('# missing values across all columns:\\n',df.isnull().sum())"
      ],
      "metadata": {
        "colab": {
          "base_uri": "https://localhost:8080/"
        },
        "id": "QLEElqTdcwL0",
        "outputId": "2970b248-94ff-4427-a4e7-2ed50e1329c8"
      },
      "execution_count": 5,
      "outputs": [
        {
          "output_type": "stream",
          "name": "stdout",
          "text": [
            "# missing values across all columns:\n",
            " overall                0\n",
            "verified               0\n",
            "reviewTime             0\n",
            "reviewerID             0\n",
            "asin                   0\n",
            "reviewerName          48\n",
            "reviewText           427\n",
            "summary              174\n",
            "unixReviewTime         0\n",
            "vote              853783\n",
            "style             457290\n",
            "image             987976\n",
            "dtype: int64\n"
          ]
        }
      ]
    },
    {
      "cell_type": "code",
      "source": [
        "# choose the subset useful for further research\n",
        "df = df[['overall','reviewerID', 'asin', 'reviewText']]\n",
        "df.drop_duplicates(inplace=True)\n",
        "df = df.rename(columns={'reviewerID': 'user_id',\n",
        "                         'asin': 'item_id',\n",
        "                         'reviewText': 'text',\n",
        "                         'overall': 'ratings'})"
      ],
      "metadata": {
        "id": "SZYXTqUTcwJH"
      },
      "execution_count": 6,
      "outputs": []
    },
    {
      "cell_type": "markdown",
      "source": [
        "# 2.2.&nbsp;Exploratory Data Analysis"
      ],
      "metadata": {
        "id": "xTVLTWHDeCQu"
      }
    },
    {
      "cell_type": "markdown",
      "metadata": {
        "id": "Nrc597NAnu3P"
      },
      "source": [
        "***1. Number of Users and Items.***"
      ]
    },
    {
      "cell_type": "code",
      "execution_count": 9,
      "metadata": {
        "id": "cxQWIZT_ZrLf",
        "colab": {
          "base_uri": "https://localhost:8080/"
        },
        "outputId": "6d0edf90-5182-4ac2-8764-7a00158a2a08"
      },
      "outputs": [
        {
          "output_type": "stream",
          "name": "stdout",
          "text": [
            "Fit & Sports Users-Items Summary:\n",
            "Total # of users: 817063\n",
            "Total # of items: 11752\n"
          ]
        }
      ],
      "source": [
        "print(\"Fit & Sports Users-Items Summary:\")\n",
        "num_users = df.user_id.nunique()\n",
        "num_items = df.item_id.nunique()\n",
        "print(\"Total # of users:\", num_users)\n",
        "print(\"Total # of items:\", num_items)"
      ]
    },
    {
      "cell_type": "markdown",
      "metadata": {
        "id": "t988Qw0wn34H"
      },
      "source": [
        "***2. The Ratings Statistics***"
      ]
    },
    {
      "cell_type": "code",
      "execution_count": 11,
      "metadata": {
        "id": "KWKshCSCZrdR",
        "colab": {
          "base_uri": "https://localhost:8080/"
        },
        "outputId": "0cc9c322-ab17-4fdf-93cf-5a2fa0673ef4"
      },
      "outputs": [
        {
          "output_type": "execute_result",
          "data": {
            "text/plain": [
              "count    999155.000000\n",
              "mean          4.270382\n",
              "std           1.200223\n",
              "min           1.000000\n",
              "25%           4.000000\n",
              "50%           5.000000\n",
              "75%           5.000000\n",
              "max           5.000000\n",
              "Name: ratings, dtype: float64"
            ]
          },
          "metadata": {},
          "execution_count": 11
        }
      ],
      "source": [
        "df['ratings'].describe()"
      ]
    },
    {
      "cell_type": "code",
      "execution_count": 13,
      "metadata": {
        "id": "klPPzolSi29E",
        "colab": {
          "base_uri": "https://localhost:8080/",
          "height": 521
        },
        "outputId": "39ea5584-8bb6-4836-835b-3f896be85562"
      },
      "outputs": [
        {
          "output_type": "execute_result",
          "data": {
            "text/plain": [
              "array([[<Axes: title={'center': 'ratings'}>,\n",
              "        <Axes: title={'center': 'review_length'}>],\n",
              "       [<Axes: title={'center': 'review_length_normalized'}>, <Axes: >]],\n",
              "      dtype=object)"
            ]
          },
          "metadata": {},
          "execution_count": 13
        },
        {
          "output_type": "display_data",
          "data": {
            "text/plain": [
              "<Figure size 640x480 with 4 Axes>"
            ],
            "image/png": "[encoded data removed]"
          },
          "metadata": {}
        }
      ],
      "source": [
        "df.hist()"
      ]
    },
    {
      "cell_type": "code",
      "execution_count": 21,
      "metadata": {
        "id": "gJniSOIji3Er",
        "colab": {
          "base_uri": "https://localhost:8080/",
          "height": 428
        },
        "outputId": "605d15a6-a900-41d4-c81e-2481ebf299f2"
      },
      "outputs": [
        {
          "output_type": "execute_result",
          "data": {
            "text/plain": [
              "<Axes: ylabel='ratings'>"
            ]
          },
          "metadata": {},
          "execution_count": 21
        },
        {
          "output_type": "display_data",
          "data": {
            "text/plain": [
              "<Figure size 640x480 with 1 Axes>"
            ],
            "image/png": "[encoded data removed]"
          },
          "metadata": {}
        }
      ],
      "source": [
        "sns.boxplot(y = 'ratings', data = df)"
      ]
    },
    {
      "cell_type": "markdown",
      "metadata": {
        "id": "w5-5kY5jkQ1v"
      },
      "source": [
        "As we can observe, most of reviewers rated the items between 0 and 1.\n",
        "\n",
        "***3. The Reviews Statistics***"
      ]
    },
    {
      "cell_type": "code",
      "execution_count": 15,
      "metadata": {
        "id": "k5RznugNkdCF"
      },
      "outputs": [],
      "source": [
        "rated = df.groupby('user_id').size().sort_values(ascending=False)"
      ]
    },
    {
      "cell_type": "code",
      "execution_count": 16,
      "metadata": {
        "id": "NlyEDLOKkdyn",
        "colab": {
          "base_uri": "https://localhost:8080/"
        },
        "outputId": "0fb11c3e-240e-48fa-972e-1b4a6eebfc27"
      },
      "outputs": [
        {
          "output_type": "execute_result",
          "data": {
            "text/plain": [
              "count    817063.000000\n",
              "mean          1.222862\n",
              "std           0.733421\n",
              "min           1.000000\n",
              "25%           1.000000\n",
              "50%           1.000000\n",
              "75%           1.000000\n",
              "max          78.000000\n",
              "dtype: float64"
            ]
          },
          "metadata": {},
          "execution_count": 16
        }
      ],
      "source": [
        "rated.describe()"
      ]
    },
    {
      "cell_type": "code",
      "execution_count": 17,
      "metadata": {
        "colab": {
          "base_uri": "https://localhost:8080/",
          "height": 447
        },
        "id": "w5406kUKkd1Y",
        "outputId": "cf2fc9ad-0195-4639-f30f-0303446bf16b"
      },
      "outputs": [
        {
          "output_type": "execute_result",
          "data": {
            "text/plain": [
              "<Axes: >"
            ]
          },
          "metadata": {},
          "execution_count": 17
        },
        {
          "output_type": "display_data",
          "data": {
            "text/plain": [
              "<Figure size 640x480 with 1 Axes>"
            ],
            "image/png": "[encoded data removed]"
          },
          "metadata": {}
        }
      ],
      "source": [
        "rated.hist()"
      ]
    },
    {
      "cell_type": "code",
      "execution_count": 18,
      "metadata": {
        "colab": {
          "base_uri": "https://localhost:8080/",
          "height": 428
        },
        "id": "Z8S3QS57pwCK",
        "outputId": "d447bcbf-21c3-4375-8cd3-65a11c24c1bd"
      },
      "outputs": [
        {
          "output_type": "execute_result",
          "data": {
            "text/plain": [
              "<Axes: >"
            ]
          },
          "metadata": {},
          "execution_count": 18
        },
        {
          "output_type": "display_data",
          "data": {
            "text/plain": [
              "<Figure size 640x480 with 1 Axes>"
            ],
            "image/png": "[encoded data removed]"
          },
          "metadata": {}
        }
      ],
      "source": [
        "sns.boxplot(data = rated)"
      ]
    },
    {
      "cell_type": "markdown",
      "metadata": {
        "id": "_DXQiA0aqIgP"
      },
      "source": [
        "As we can observe, most of reviewers wrote reviews between 1 and 40."
      ]
    },
    {
      "cell_type": "code",
      "execution_count": 19,
      "metadata": {
        "colab": {
          "base_uri": "https://localhost:8080/"
        },
        "id": "JTOHaYDU67e_",
        "outputId": "c06db431-fdd8-4f82-f2bc-50b4654bac18"
      },
      "outputs": [
        {
          "output_type": "stream",
          "name": "stdout",
          "text": [
            "The Top 5 users who wrote the most reviews: \n",
            " user_id\n",
            "A3OXHLG6DIBRW8    78\n",
            "A8VI7KMUHI7ZH     54\n",
            "A1RPTVW5VEOSI     39\n",
            "AN81JUYW2SL24     35\n",
            "A3CYLXCQ6DHU7Y    35\n",
            "dtype: int64\n"
          ]
        }
      ],
      "source": [
        "print('The Top 5 users who wrote the most reviews: \\n',rated[:5])"
      ]
    },
    {
      "cell_type": "markdown",
      "metadata": {
        "id": "tjt4xFRF5jOc"
      },
      "source": [
        "***4. # Ratings per Item***"
      ]
    },
    {
      "cell_type": "code",
      "execution_count": 23,
      "metadata": {
        "colab": {
          "base_uri": "https://localhost:8080/"
        },
        "id": "ZMApldYRAPXA",
        "outputId": "6ba0e5e4-bb27-4a48-bcc1-aa02b8d651cc"
      },
      "outputs": [
        {
          "output_type": "stream",
          "name": "stdout",
          "text": [
            "The items with the most ratings:\n"
          ]
        },
        {
          "output_type": "execute_result",
          "data": {
            "text/plain": [
              "item_id\n",
              "7245456313    6685\n",
              "B000MF63M2    4177\n",
              "B00008BFYG    4039\n",
              "B000B6ACGA    3828\n",
              "B0002ECYRQ    3448\n",
              "Name: ratings, dtype: int64"
            ]
          },
          "metadata": {},
          "execution_count": 23
        }
      ],
      "source": [
        "num_rating = df.groupby(by='item_id')['ratings'].count().sort_values(ascending=False)\n",
        "print('The items with the most ratings:')\n",
        "num_rating.head()"
      ]
    },
    {
      "cell_type": "code",
      "execution_count": 24,
      "metadata": {
        "colab": {
          "base_uri": "https://localhost:8080/"
        },
        "id": "2aT58RwSAyn-",
        "outputId": "ec50106d-6d54-4aa3-926f-143aba3f7f31"
      },
      "outputs": [
        {
          "output_type": "stream",
          "name": "stdout",
          "text": [
            "The average # of ratings per item is 85.\n"
          ]
        }
      ],
      "source": [
        "print('The average # of ratings per item is {:.0f}.'.format(num_rating.mean()))"
      ]
    },
    {
      "cell_type": "code",
      "execution_count": 25,
      "metadata": {
        "colab": {
          "base_uri": "https://localhost:8080/",
          "height": 559
        },
        "id": "Cdkj1JsN56iI",
        "outputId": "03dc02bf-81cc-44c1-b44e-521ef2dd3e1c"
      },
      "outputs": [
        {
          "output_type": "execute_result",
          "data": {
            "text/plain": [
              "[<matplotlib.lines.Line2D at 0x7ed73eafbd30>]"
            ]
          },
          "metadata": {},
          "execution_count": 25
        },
        {
          "output_type": "execute_result",
          "data": {
            "text/plain": [
              "Text(0.5, 0, 'Product')"
            ]
          },
          "metadata": {},
          "execution_count": 25
        },
        {
          "output_type": "execute_result",
          "data": {
            "text/plain": [
              "Text(0, 0.5, 'Number of Ratings')"
            ]
          },
          "metadata": {},
          "execution_count": 25
        },
        {
          "output_type": "execute_result",
          "data": {
            "text/plain": [
              "Text(0.5, 1.0, 'The Distribution of Number of Ratings per Product')"
            ]
          },
          "metadata": {},
          "execution_count": 25
        },
        {
          "output_type": "execute_result",
          "data": {
            "text/plain": [
              "<function matplotlib.pyplot.show(close=None, block=None)>"
            ]
          },
          "metadata": {},
          "execution_count": 25
        },
        {
          "output_type": "display_data",
          "data": {
            "text/plain": [
              "<Figure size 640x480 with 1 Axes>"
            ],
            "image/png": "[encoded data removed]"
          },
          "metadata": {}
        }
      ],
      "source": [
        "plt.plot(num_rating.values)\n",
        "plt.xlabel('Product'); plt.ylabel('Number of Ratings');\n",
        "plt.title('The Distribution of Number of Ratings per Product')\n",
        "plt.show"
      ]
    },
    {
      "cell_type": "markdown",
      "metadata": {
        "id": "KwSjoUYvDR9E"
      },
      "source": [
        "As we can observe, the distribution of # ratings per item is left-skewed. Most Items don't have many ratings."
      ]
    },
    {
      "cell_type": "markdown",
      "metadata": {
        "id": "q66jw8Pn6-bX"
      },
      "source": [
        "***5. Average Rating Score per Item***"
      ]
    },
    {
      "cell_type": "code",
      "execution_count": 26,
      "metadata": {
        "colab": {
          "base_uri": "https://localhost:8080/",
          "height": 237
        },
        "id": "OdZqET6W7HD1",
        "outputId": "f220266d-faf0-46b1-e4ca-aed7e61e2d26"
      },
      "outputs": [
        {
          "output_type": "execute_result",
          "data": {
            "text/plain": [
              "             ratings\n",
              "item_id             \n",
              "0000031895  0.545455\n",
              "0000032034  0.812500\n",
              "0692747222  1.000000\n",
              "0899332757  0.964286\n",
              "0899333257  0.940000"
            ],
            "text/html": [
              "\n",
              "  <div id=\"df-2f0a66de-6672-42b9-be50-0138d95a739f\" class=\"colab-df-container\">\n",
              "    <div>\n",
              "<style scoped>\n",
              "    .dataframe tbody tr th:only-of-type {\n",
              "        vertical-align: middle;\n",
              "    }\n",
              "\n",
              "    .dataframe tbody tr th {\n",
              "        vertical-align: top;\n",
              "    }\n",
              "\n",
              "    .dataframe thead th {\n",
              "        text-align: right;\n",
              "    }\n",
              "</style>\n",
              "<table border=\"1\" class=\"dataframe\">\n",
              "  <thead>\n",
              "    <tr style=\"text-align: right;\">\n",
              "      <th></th>\n",
              "      <th>ratings</th>\n",
              "    </tr>\n",
              "    <tr>\n",
              "      <th>item_id</th>\n",
              "      <th></th>\n",
              "    </tr>\n",
              "  </thead>\n",
              "  <tbody>\n",
              "    <tr>\n",
              "      <th>0000031895</th>\n",
              "      <td>0.545455</td>\n",
              "    </tr>\n",
              "    <tr>\n",
              "      <th>0000032034</th>\n",
              "      <td>0.812500</td>\n",
              "    </tr>\n",
              "    <tr>\n",
              "      <th>0692747222</th>\n",
              "      <td>1.000000</td>\n",
              "    </tr>\n",
              "    <tr>\n",
              "      <th>0899332757</th>\n",
              "      <td>0.964286</td>\n",
              "    </tr>\n",
              "    <tr>\n",
              "      <th>0899333257</th>\n",
              "      <td>0.940000</td>\n",
              "    </tr>\n",
              "  </tbody>\n",
              "</table>\n",
              "</div>\n",
              "    <div class=\"colab-df-buttons\">\n",
              "\n",
              "  <div class=\"colab-df-container\">\n",
              "    <button class=\"colab-df-convert\" onclick=\"convertToInteractive('df-2f0a66de-6672-42b9-be50-0138d95a739f')\"\n",
              "            title=\"Convert this dataframe to an interactive table.\"\n",
              "            style=\"display:none;\">\n",
              "\n",
              "  <svg xmlns=\"http://www.w3.org/2000/svg\" height=\"24px\" viewBox=\"0 -960 960 960\">\n",
              "    <path d=\"M120-120v-720h720v720H120Zm60-500h600v-160H180v160Zm220 220h160v-160H400v160Zm0 220h160v-160H400v160ZM180-400h160v-160H180v160Zm440 0h160v-160H620v160ZM180-180h160v-160H180v160Zm440 0h160v-160H620v160Z\"/>\n",
              "  </svg>\n",
              "    </button>\n",
              "\n",
              "  <style>\n",
              "    .colab-df-container {\n",
              "      display:flex;\n",
              "      gap: 12px;\n",
              "    }\n",
              "\n",
              "    .colab-df-convert {\n",
              "      background-color: #E8F0FE;\n",
              "      border: none;\n",
              "      border-radius: 50%;\n",
              "      cursor: pointer;\n",
              "      display: none;\n",
              "      fill: #1967D2;\n",
              "      height: 32px;\n",
              "      padding: 0 0 0 0;\n",
              "      width: 32px;\n",
              "    }\n",
              "\n",
              "    .colab-df-convert:hover {\n",
              "      background-color: #E2EBFA;\n",
              "      box-shadow: 0px 1px 2px rgba(60, 64, 67, 0.3), 0px 1px 3px 1px rgba(60, 64, 67, 0.15);\n",
              "      fill: #174EA6;\n",
              "    }\n",
              "\n",
              "    .colab-df-buttons div {\n",
              "      margin-bottom: 4px;\n",
              "    }\n",
              "\n",
              "    [theme=dark] .colab-df-convert {\n",
              "      background-color: #3B4455;\n",
              "      fill: #D2E3FC;\n",
              "    }\n",
              "\n",
              "    [theme=dark] .colab-df-convert:hover {\n",
              "      background-color: #434B5C;\n",
              "      box-shadow: 0px 1px 3px 1px rgba(0, 0, 0, 0.15);\n",
              "      filter: drop-shadow(0px 1px 2px rgba(0, 0, 0, 0.3));\n",
              "      fill: #FFFFFF;\n",
              "    }\n",
              "  </style>\n",
              "\n",
              "    <script>\n",
              "      const buttonEl =\n",
              "        document.querySelector('#df-2f0a66de-6672-42b9-be50-0138d95a739f button.colab-df-convert');\n",
              "      buttonEl.style.display =\n",
              "        google.colab.kernel.accessAllowed ? 'block' : 'none';\n",
              "\n",
              "      async function convertToInteractive(key) {\n",
              "        const element = document.querySelector('#df-2f0a66de-6672-42b9-be50-0138d95a739f');\n",
              "        const dataTable =\n",
              "          await google.colab.kernel.invokeFunction('convertToInteractive',\n",
              "                                                    [key], {});\n",
              "        if (!dataTable) return;\n",
              "\n",
              "        const docLinkHtml = 'Like what you see? Visit the ' +\n",
              "          '<a target=\"_blank\" href=https://colab.research.google.com/notebooks/data_table.ipynb>data table notebook</a>'\n",
              "          + ' to learn more about interactive tables.';\n",
              "        element.innerHTML = '';\n",
              "        dataTable['output_type'] = 'display_data';\n",
              "        await google.colab.output.renderOutput(dataTable, element);\n",
              "        const docLink = document.createElement('div');\n",
              "        docLink.innerHTML = docLinkHtml;\n",
              "        element.appendChild(docLink);\n",
              "      }\n",
              "    </script>\n",
              "  </div>\n",
              "\n",
              "\n",
              "<div id=\"df-c90713c1-908a-4fe4-84ab-913b8d4cbf94\">\n",
              "  <button class=\"colab-df-quickchart\" onclick=\"quickchart('df-c90713c1-908a-4fe4-84ab-913b8d4cbf94')\"\n",
              "            title=\"Suggest charts\"\n",
              "            style=\"display:none;\">\n",
              "\n",
              "<svg xmlns=\"http://www.w3.org/2000/svg\" height=\"24px\"viewBox=\"0 0 24 24\"\n",
              "     width=\"24px\">\n",
              "    <g>\n",
              "        <path d=\"M19 3H5c-1.1 0-2 .9-2 2v14c0 1.1.9 2 2 2h14c1.1 0 2-.9 2-2V5c0-1.1-.9-2-2-2zM9 17H7v-7h2v7zm4 0h-2V7h2v10zm4 0h-2v-4h2v4z\"/>\n",
              "    </g>\n",
              "</svg>\n",
              "  </button>\n",
              "\n",
              "<style>\n",
              "  .colab-df-quickchart {\n",
              "      --bg-color: #E8F0FE;\n",
              "      --fill-color: #1967D2;\n",
              "      --hover-bg-color: #E2EBFA;\n",
              "      --hover-fill-color: #174EA6;\n",
              "      --disabled-fill-color: #AAA;\n",
              "      --disabled-bg-color: #DDD;\n",
              "  }\n",
              "\n",
              "  [theme=dark] .colab-df-quickchart {\n",
              "      --bg-color: #3B4455;\n",
              "      --fill-color: #D2E3FC;\n",
              "      --hover-bg-color: #434B5C;\n",
              "      --hover-fill-color: #FFFFFF;\n",
              "      --disabled-bg-color: #3B4455;\n",
              "      --disabled-fill-color: #666;\n",
              "  }\n",
              "\n",
              "  .colab-df-quickchart {\n",
              "    background-color: var(--bg-color);\n",
              "    border: none;\n",
              "    border-radius: 50%;\n",
              "    cursor: pointer;\n",
              "    display: none;\n",
              "    fill: var(--fill-color);\n",
              "    height: 32px;\n",
              "    padding: 0;\n",
              "    width: 32px;\n",
              "  }\n",
              "\n",
              "  .colab-df-quickchart:hover {\n",
              "    background-color: var(--hover-bg-color);\n",
              "    box-shadow: 0 1px 2px rgba(60, 64, 67, 0.3), 0 1px 3px 1px rgba(60, 64, 67, 0.15);\n",
              "    fill: var(--button-hover-fill-color);\n",
              "  }\n",
              "\n",
              "  .colab-df-quickchart-complete:disabled,\n",
              "  .colab-df-quickchart-complete:disabled:hover {\n",
              "    background-color: var(--disabled-bg-color);\n",
              "    fill: var(--disabled-fill-color);\n",
              "    box-shadow: none;\n",
              "  }\n",
              "\n",
              "  .colab-df-spinner {\n",
              "    border: 2px solid var(--fill-color);\n",
              "    border-color: transparent;\n",
              "    border-bottom-color: var(--fill-color);\n",
              "    animation:\n",
              "      spin 1s steps(1) infinite;\n",
              "  }\n",
              "\n",
              "  @keyframes spin {\n",
              "    0% {\n",
              "      border-color: transparent;\n",
              "      border-bottom-color: var(--fill-color);\n",
              "      border-left-color: var(--fill-color);\n",
              "    }\n",
              "    20% {\n",
              "      border-color: transparent;\n",
              "      border-left-color: var(--fill-color);\n",
              "      border-top-color: var(--fill-color);\n",
              "    }\n",
              "    30% {\n",
              "      border-color: transparent;\n",
              "      border-left-color: var(--fill-color);\n",
              "      border-top-color: var(--fill-color);\n",
              "      border-right-color: var(--fill-color);\n",
              "    }\n",
              "    40% {\n",
              "      border-color: transparent;\n",
              "      border-right-color: var(--fill-color);\n",
              "      border-top-color: var(--fill-color);\n",
              "    }\n",
              "    60% {\n",
              "      border-color: transparent;\n",
              "      border-right-color: var(--fill-color);\n",
              "    }\n",
              "    80% {\n",
              "      border-color: transparent;\n",
              "      border-right-color: var(--fill-color);\n",
              "      border-bottom-color: var(--fill-color);\n",
              "    }\n",
              "    90% {\n",
              "      border-color: transparent;\n",
              "      border-bottom-color: var(--fill-color);\n",
              "    }\n",
              "  }\n",
              "</style>\n",
              "\n",
              "  <script>\n",
              "    async function quickchart(key) {\n",
              "      const quickchartButtonEl =\n",
              "        document.querySelector('#' + key + ' button');\n",
              "      quickchartButtonEl.disabled = true;  // To prevent multiple clicks.\n",
              "      quickchartButtonEl.classList.add('colab-df-spinner');\n",
              "      try {\n",
              "        const charts = await google.colab.kernel.invokeFunction(\n",
              "            'suggestCharts', [key], {});\n",
              "      } catch (error) {\n",
              "        console.error('Error during call to suggestCharts:', error);\n",
              "      }\n",
              "      quickchartButtonEl.classList.remove('colab-df-spinner');\n",
              "      quickchartButtonEl.classList.add('colab-df-quickchart-complete');\n",
              "    }\n",
              "    (() => {\n",
              "      let quickchartButtonEl =\n",
              "        document.querySelector('#df-c90713c1-908a-4fe4-84ab-913b8d4cbf94 button');\n",
              "      quickchartButtonEl.style.display =\n",
              "        google.colab.kernel.accessAllowed ? 'block' : 'none';\n",
              "    })();\n",
              "  </script>\n",
              "</div>\n",
              "\n",
              "    </div>\n",
              "  </div>\n"
            ]
          },
          "metadata": {},
          "execution_count": 26
        }
      ],
      "source": [
        "ratings_mean = pd.DataFrame(df.groupby('item_id')['ratings'].mean())\n",
        "ratings_mean.head()"
      ]
    },
    {
      "cell_type": "code",
      "execution_count": 27,
      "metadata": {
        "colab": {
          "base_uri": "https://localhost:8080/",
          "height": 447
        },
        "id": "9346UlYeChQK",
        "outputId": "6b2fbe65-7618-4373-8a44-5c6683bc9986"
      },
      "outputs": [
        {
          "output_type": "execute_result",
          "data": {
            "text/plain": [
              "<Axes: ylabel='Density'>"
            ]
          },
          "metadata": {},
          "execution_count": 27
        },
        {
          "output_type": "display_data",
          "data": {
            "text/plain": [
              "<Figure size 640x480 with 1 Axes>"
            ],
            "image/png": "[encoded data removed]"
          },
          "metadata": {}
        }
      ],
      "source": [
        "sns.distplot(ratings_mean, hist=False)\n",
        "plt.show()"
      ]
    },
    {
      "cell_type": "markdown",
      "metadata": {
        "id": "1C23HDyPDp1A"
      },
      "source": [
        "As we can observe, the distribution of the average rating score per item is right-skewed. Most Items have high ratings."
      ]
    },
    {
      "cell_type": "markdown",
      "source": [
        "# 2.3.&nbsp;Implementation"
      ],
      "metadata": {
        "id": "prB3WzXzhCAI"
      }
    },
    {
      "cell_type": "code",
      "source": [
        "NN_model = tf.keras.Sequential([\n",
        "    tf.keras.layers.Dense(16, activation='relu', input_shape=(3,)),\n",
        "    tf.keras.layers.Dense(1, activation='sigmoid')\n",
        "])"
      ],
      "metadata": {
        "id": "uVMkjT3vhNZk"
      },
      "execution_count": 34,
      "outputs": []
    },
    {
      "cell_type": "code",
      "source": [
        "NN_model.compile(optimizer='adam', loss='binary_crossentropy', metrics=['accuracy'])"
      ],
      "metadata": {
        "id": "qZtHF8aZxq0w"
      },
      "execution_count": 37,
      "outputs": []
    },
    {
      "cell_type": "code",
      "source": [
        "history = NN_model.fit(X_train, y_train, epochs=20, batch_size=16, validation_split=0.3)"
      ],
      "metadata": {
        "colab": {
          "base_uri": "https://localhost:8080/"
        },
        "id": "Y4h7B7XFXLq3",
        "outputId": "b2090ac3-193a-4196-e4f4-d0f3102ca94a"
      },
      "execution_count": 42,
      "outputs": [
        {
          "output_type": "stream",
          "name": "stdout",
          "text": [
            "Epoch 1/20\n",
            "30600/30600 [==============================] - 93s 3ms/step - loss: 1.5489e-11 - accuracy: 1.0000 - val_loss: 1.3847e-11 - val_accuracy: 1.0000\n",
            "Epoch 2/20\n",
            "30600/30600 [==============================] - 89s 3ms/step - loss: 1.2673e-11 - accuracy: 1.0000 - val_loss: 1.1518e-11 - val_accuracy: 1.0000\n",
            "Epoch 3/20\n",
            "30600/30600 [==============================] - 92s 3ms/step - loss: 1.0670e-11 - accuracy: 1.0000 - val_loss: 9.8096e-12 - val_accuracy: 1.0000\n",
            "Epoch 4/20\n",
            "30600/30600 [==============================] - 92s 3ms/step - loss: 9.1763e-12 - accuracy: 1.0000 - val_loss: 8.5183e-12 - val_accuracy: 1.0000\n",
            "Epoch 5/20\n",
            "30600/30600 [==============================] - 91s 3ms/step - loss: 8.0387e-12 - accuracy: 1.0000 - val_loss: 7.5296e-12 - val_accuracy: 1.0000\n",
            "Epoch 6/20\n",
            "30600/30600 [==============================] - 92s 3ms/step - loss: 7.1632e-12 - accuracy: 1.0000 - val_loss: 6.7628e-12 - val_accuracy: 1.0000\n",
            "Epoch 7/20\n",
            "30600/30600 [==============================] - 90s 3ms/step - loss: 6.4782e-12 - accuracy: 1.0000 - val_loss: 6.1572e-12 - val_accuracy: 1.0000\n",
            "Epoch 8/20\n",
            "30600/30600 [==============================] - 94s 3ms/step - loss: 5.9329e-12 - accuracy: 1.0000 - val_loss: 5.6711e-12 - val_accuracy: 1.0000\n",
            "Epoch 9/20\n",
            "30600/30600 [==============================] - 91s 3ms/step - loss: 5.4912e-12 - accuracy: 1.0000 - val_loss: 5.2713e-12 - val_accuracy: 1.0000\n",
            "Epoch 10/20\n",
            "30600/30600 [==============================] - 86s 3ms/step - loss: 5.1238e-12 - accuracy: 1.0000 - val_loss: 4.9372e-12 - val_accuracy: 1.0000\n",
            "Epoch 11/20\n",
            "30600/30600 [==============================] - 88s 3ms/step - loss: 4.8121e-12 - accuracy: 1.0000 - val_loss: 4.6499e-12 - val_accuracy: 1.0000\n",
            "Epoch 12/20\n",
            "30600/30600 [==============================] - 87s 3ms/step - loss: 4.5440e-12 - accuracy: 1.0000 - val_loss: 4.4012e-12 - val_accuracy: 1.0000\n",
            "Epoch 13/20\n",
            "30600/30600 [==============================] - 82s 3ms/step - loss: 4.3103e-12 - accuracy: 1.0000 - val_loss: 4.1824e-12 - val_accuracy: 1.0000\n",
            "Epoch 14/20\n",
            "30600/30600 [==============================] - 80s 3ms/step - loss: 4.1032e-12 - accuracy: 1.0000 - val_loss: 3.9888e-12 - val_accuracy: 1.0000\n",
            "Epoch 15/20\n",
            "30600/30600 [==============================] - 82s 3ms/step - loss: 3.9199e-12 - accuracy: 1.0000 - val_loss: 3.8167e-12 - val_accuracy: 1.0000\n",
            "Epoch 16/20\n",
            "30600/30600 [==============================] - 89s 3ms/step - loss: 3.7562e-12 - accuracy: 1.0000 - val_loss: 3.6623e-12 - val_accuracy: 1.0000\n",
            "Epoch 17/20\n",
            "30600/30600 [==============================] - 90s 3ms/step - loss: 3.6092e-12 - accuracy: 1.0000 - val_loss: 3.5239e-12 - val_accuracy: 1.0000\n",
            "Epoch 18/20\n",
            "30600/30600 [==============================] - 86s 3ms/step - loss: 3.4768e-12 - accuracy: 1.0000 - val_loss: 3.3980e-12 - val_accuracy: 1.0000\n",
            "Epoch 19/20\n",
            "30600/30600 [==============================] - 83s 3ms/step - loss: 3.3556e-12 - accuracy: 1.0000 - val_loss: 3.2841e-12 - val_accuracy: 1.0000\n",
            "Epoch 20/20\n",
            "30600/30600 [==============================] - 87s 3ms/step - loss: 3.2471e-12 - accuracy: 1.0000 - val_loss: 3.1807e-12 - val_accuracy: 1.0000\n"
          ]
        }
      ]
    },
    {
      "cell_type": "markdown",
      "source": [
        "# 2.4.&nbsp;Results"
      ],
      "metadata": {
        "id": "BgGTWeaYhLIi"
      }
    },
    {
      "cell_type": "code",
      "source": [
        "test_loss, test_acc = NN_model.evaluate(X_test, y_test)\n",
        "print(f'Test Accuracy: {test_acc * 100:.2f}%')"
      ],
      "metadata": {
        "colab": {
          "base_uri": "https://localhost:8080/"
        },
        "id": "lAmS5VFx1bH8",
        "outputId": "166d41a7-f808-4c4d-f23d-107d1d04a1a6"
      },
      "execution_count": 43,
      "outputs": [
        {
          "output_type": "stream",
          "name": "stdout",
          "text": [
            "9368/9368 [==============================] - 17s 2ms/step - loss: 3.1699e-12 - accuracy: 1.0000\n",
            "Test Accuracy: 100.00%\n"
          ]
        }
      ]
    },
    {
      "cell_type": "markdown",
      "source": [
        "# &nbsp;Task 3"
      ],
      "metadata": {
        "id": "_6FkvQhXfodd"
      }
    },
    {
      "cell_type": "markdown",
      "source": [],
      "metadata": {
        "id": "kErEHsxbhaCV"
      }
    },
    {
      "cell_type": "markdown",
      "source": [
        "The choice of hyperparameters:\n",
        "1. Number of Neurons in the Hidden Layer: we need to have enough capacity to learn from the data and avoid being too complex for this problem, hence 16 is a good choice.\n",
        "\n",
        "2. Number of Epochs: Setting the number of epochs to 20 is a choice that balances the trade-offs between the running time and the risk of overfitting.\n",
        "\n",
        "3. Validation Split: Using 30% of the training data for validation allows for a reasonable estimate of the model's performance on unseen data while retaining most of the data for training."
      ],
      "metadata": {
        "id": "j8lZtqlb1XHJ"
      }
    },
    {
      "cell_type": "markdown",
      "source": [],
      "metadata": {
        "id": "inG60hxa1XrQ"
      }
    },
    {
      "cell_type": "markdown",
      "source": [
        "Rationale behind the technique I used:\n",
        "\n",
        "1. I used ReLU for the hidden layer because it introduces nonlinearility into the model, hence helps mitigate the vanishing gradient problem, allowing models to learn faster and perform better.\n",
        "\n",
        "2. I used Sigmoid in the output layer for this model because it outputs probabilities which is ideal in binary classification tasks."
      ],
      "metadata": {
        "id": "5eK_65_k1ZPL"
      }
    },
    {
      "cell_type": "markdown",
      "source": [
        "Regularization\n",
        "\n",
        "I didn't do the dropouts or L2 norm in the model to prevent overfitting, instead, I used cross validation since this is one of the recommendation method on lecture slides and it does the same thing. :)"
      ],
      "metadata": {
        "id": "feLM77jJ1gGo"
      }
    },
    {
      "cell_type": "markdown",
      "source": [
        "Optimization Algorithm\n",
        "\n",
        "I used Adam because it is computationally efficient, requires little memory, and adjusts the learning rate on a per-parameter basis, making it suitable for this problem."
      ],
      "metadata": {
        "id": "VDotnU-D3_HW"
      }
    }
  ]
}