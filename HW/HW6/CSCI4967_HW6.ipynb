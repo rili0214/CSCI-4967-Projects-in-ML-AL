{
  "cells": [
    {
      "cell_type": "markdown",
      "source": [
        "# **CSCI 4967 Projects in AI/ML HW6**\n",
        "\n",
        "**Spring 2024**\n",
        "\n",
        "*Author: Yuming (Tao) Xie*"
      ],
      "metadata": {
        "id": "qphS7ThztPTy"
      }
    },
    {
      "cell_type": "markdown",
      "source": [
        "### Task 1:"
      ],
      "metadata": {
        "id": "huanrUKvtKbP"
      }
    },
    {
      "cell_type": "code",
      "execution_count": 1,
      "metadata": {
        "id": "bsc400sUqAKl"
      },
      "outputs": [],
      "source": [
        "import pandas as pd\n",
        "from collections import Counter\n",
        "import re\n",
        "import matplotlib.pyplot as plt\n",
        "from transformers import BartTokenizer, BartForConditionalGeneration, Trainer, TrainingArguments\n",
        "from sklearn.model_selection import train_test_split\n",
        "from torch.utils.data import Dataset\n",
        "import torch\n",
        "from datasets import load_metric\n",
        "\n",
        "df = pd.read_json(\"/content/bloomberg_quint_news.json\")"
      ]
    },
    {
      "cell_type": "code",
      "execution_count": 2,
      "metadata": {
        "colab": {
          "base_uri": "https://localhost:8080/"
        },
        "id": "9HnLjKReqV_y",
        "outputId": "0b72b283-483f-4734-d02f-bd35b5c68a3c"
      },
      "outputs": [
        {
          "output_type": "stream",
          "name": "stdout",
          "text": [
            "                                                 url  \\\n",
            "0  https://www.bloombergquint.com/markets/all-you...   \n",
            "1  https://www.bloombergquint.com/business/bridge...   \n",
            "2  https://www.bloombergquint.com/markets/stocks-...   \n",
            "3  https://www.bloombergquint.com/research-report...   \n",
            "4  https://www.bloombergquint.com/business/cp-rai...   \n",
            "\n",
            "                                               title  \\\n",
            "0  All You Need To Know Going Into Trade On Septe...   \n",
            "1  Bridgestone CEO Backs Safe Tokyo Olympics, Dia...   \n",
            "2  Stocks To Watch: HCL Tech, Cyient, M&M Financi...   \n",
            "3  Localised Lockdowns Cannot But Impinge On Econ...   \n",
            "4  CP Rail Wins Regulator Exemption From Tougher ...   \n",
            "\n",
            "                                   short_description  \\\n",
            "0  Stocks in the news, big brokerage calls of the...   \n",
            "1  Bridgestone CEO Backs Safe Tokyo Olympics, Dia...   \n",
            "2     Here are the stocks to watch in trade today...   \n",
            "3  Localised Lockdowns Cannot But Impinge On Econ...   \n",
            "4  CP Rail Wins Regulator Exemption From Tougher ...   \n",
            "\n",
            "                               author              date_created  \\\n",
            "0                    Darshan A Nakhwa  23 Sep 2021, 7:05 AM IST   \n",
            "1                    Shiho Takezawa &  23 Apr 2021, 5:35 AM IST   \n",
            "2                             BQ Desk  23 Apr 2021, 7:29 AM IST   \n",
            "3  Nirmal Bang Institutional Research  26 Apr 2021, 7:58 AM IST   \n",
            "4                        Thomas Black  24 Apr 2021, 7:08 AM IST   \n",
            "\n",
            "              date_modified          category  \\\n",
            "0  23 Sep 2021, 7:05 AM IST           Markets   \n",
            "1  23 Apr 2021, 6:35 AM IST          Business   \n",
            "2  23 Apr 2021, 7:29 AM IST           Markets   \n",
            "3  26 Apr 2021, 7:58 AM IST  Research Reports   \n",
            "4  24 Apr 2021, 7:44 AM IST          Business   \n",
            "\n",
            "                                     raw_description  \\\n",
            "0  <div class=\"story-element story-element-text\">...   \n",
            "1  <div class=\"story-element story-element-text\">...   \n",
            "2  <div class=\"story-element story-element-text\">...   \n",
            "3  <div class=\"story-element story-element-text\">...   \n",
            "4  <div class=\"story-element story-element-text\">...   \n",
            "\n",
            "                                         description  \\\n",
            "0  Asian stocks were steady early Thursday after ...   \n",
            "1   Bridgestone Corp. will support the Tokyo Olym...   \n",
            "2  Indian equity benchmarks reversed losses made ...   \n",
            "3  Nirmal Bang Report, We assess the ‘state of af...   \n",
            "4   Canadian Pacific Railway Ltd. won a petition ...   \n",
            "\n",
            "                         publisher          scraped_at  \n",
            "0  https://www.bloombergquint.com/ 2021-09-24 00:01:25  \n",
            "1  https://www.bloombergquint.com/ 2021-09-24 00:01:26  \n",
            "2  https://www.bloombergquint.com/ 2021-09-24 00:01:26  \n",
            "3  https://www.bloombergquint.com/ 2021-09-24 00:01:26  \n",
            "4  https://www.bloombergquint.com/ 2021-09-24 00:01:27  \n",
            "url                     0\n",
            "title                   0\n",
            "short_description       0\n",
            "author               2912\n",
            "date_created         2912\n",
            "date_modified        2912\n",
            "category                0\n",
            "raw_description         0\n",
            "description             0\n",
            "publisher               0\n",
            "scraped_at              0\n",
            "dtype: int64\n"
          ]
        }
      ],
      "source": [
        "print(df.head())\n",
        "print(df.isnull().sum())\n",
        "df_cleaned = df.dropna(subset=['title', 'short_description'])\n",
        "df_cleaned.reset_index(drop=True, inplace=True)"
      ]
    },
    {
      "cell_type": "code",
      "execution_count": 3,
      "metadata": {
        "colab": {
          "base_uri": "https://localhost:8080/"
        },
        "id": "TvFOj7Erqaq7",
        "outputId": "72468fa5-cd88-4e1e-e701-31481a28dc9a"
      },
      "outputs": [
        {
          "output_type": "stream",
          "name": "stdout",
          "text": [
            "[('to', 1902), ('s', 1837), ('in', 1224), ('the', 1009), ('for', 873), ('on', 745), ('of', 717), ('a', 648), ('u', 575), ('is', 539)]\n",
            "[('to', 2091), ('s', 1927), ('the', 1684), ('in', 1439), ('of', 971), ('for', 918), ('a', 834), ('on', 738), ('is', 617), ('u', 575)]\n"
          ]
        }
      ],
      "source": [
        "def tokenize(text):\n",
        "    tokens = re.split(r'\\W+', text)\n",
        "    return [token.lower() for token in tokens if token]\n",
        "\n",
        "all_titles = \" \".join(df_cleaned['title'].apply(tokenize).apply(\" \".join))\n",
        "all_descriptions = \" \".join(df_cleaned['short_description'].apply(tokenize).apply(\" \".join))\n",
        "\n",
        "title_word_freq = Counter(all_titles.split())\n",
        "description_word_freq = Counter(all_descriptions.split())\n",
        "\n",
        "print(title_word_freq.most_common(10))\n",
        "print(description_word_freq.most_common(10))"
      ]
    },
    {
      "cell_type": "code",
      "execution_count": 4,
      "metadata": {
        "colab": {
          "base_uri": "https://localhost:8080/",
          "height": 570
        },
        "id": "9BBwueGVqdHB",
        "outputId": "a0a33464-d637-4130-a2a9-6e0b72388171"
      },
      "outputs": [
        {
          "output_type": "display_data",
          "data": {
            "text/plain": [
              "<Figure size 1200x600 with 1 Axes>"
            ],
            "image/png": "[encoded data removed]"
          },
          "metadata": {}
        }
      ],
      "source": [
        "df_cleaned['date_created'] = pd.to_datetime(df_cleaned['date_created'], format='%d %b %Y, %I:%M %p IST')\n",
        "\n",
        "articles_per_day = df_cleaned['date_created'].dt.date.value_counts().sort_index()\n",
        "\n",
        "plt.figure(figsize=(12, 6))\n",
        "articles_per_day.plot(kind='line')\n",
        "plt.title('Number of Articles Published Per Day')\n",
        "plt.xlabel('Date')\n",
        "plt.ylabel('Number of Articles')\n",
        "plt.xticks(rotation=45)\n",
        "plt.grid(True)\n",
        "plt.tight_layout()\n",
        "plt.show()"
      ]
    },
    {
      "cell_type": "code",
      "execution_count": 5,
      "metadata": {
        "id": "I0s8ujkZqz56"
      },
      "outputs": [],
      "source": [
        "X = df_cleaned['raw_description']\n",
        "y = df_cleaned['short_description']\n",
        "\n",
        "X_train, X_test, y_train, y_test = train_test_split(X, y, test_size=0.1, random_state=42)"
      ]
    },
    {
      "cell_type": "code",
      "execution_count": 6,
      "metadata": {
        "colab": {
          "base_uri": "https://localhost:8080/"
        },
        "id": "k9OEwVWsq2rW",
        "outputId": "06244875-88f7-440f-99d0-313c65374794"
      },
      "outputs": [
        {
          "output_type": "stream",
          "name": "stderr",
          "text": [
            "/usr/local/lib/python3.10/dist-packages/huggingface_hub/utils/_token.py:88: UserWarning: \n",
            "The secret `HF_TOKEN` does not exist in your Colab secrets.\n",
            "To authenticate with the Hugging Face Hub, create a token in your settings tab (https://huggingface.co/settings/tokens), set it as secret in your Google Colab and restart your session.\n",
            "You will be able to reuse this secret in all of your notebooks.\n",
            "Please note that authentication is recommended but still optional to access public models or datasets.\n",
            "  warnings.warn(\n"
          ]
        }
      ],
      "source": [
        "tokenizer = BartTokenizer.from_pretrained('facebook/bart-large-cnn')\n",
        "model = BartForConditionalGeneration.from_pretrained('facebook/bart-large-cnn')\n",
        "train_encodings = tokenizer(X_train.to_list(), max_length=512, truncation=True, padding='max_length', return_tensors=\"pt\")\n",
        "test_encodings = tokenizer(X_test.to_list(), max_length=512, truncation=True, padding='max_length', return_tensors=\"pt\")\n",
        "train_labels = tokenizer(y_train.to_list(), max_length=128, truncation=True, padding='max_length', return_tensors=\"pt\")\n",
        "test_labels = tokenizer(y_test.to_list(), max_length=128, truncation=True, padding='max_length', return_tensors=\"pt\")"
      ]
    },
    {
      "cell_type": "code",
      "execution_count": 7,
      "metadata": {
        "id": "SLWSvcCdt4n_"
      },
      "outputs": [],
      "source": [
        "class NewsSummaryDataset(Dataset):\n",
        "    def __init__(self, encodings, labels):\n",
        "        self.encodings = encodings\n",
        "        self.labels = labels\n",
        "\n",
        "    def __getitem__(self, idx):\n",
        "        item = {key: torch.tensor(val[idx]) for key, val in self.encodings.items()}\n",
        "        item['labels'] = torch.tensor(self.labels['input_ids'][idx])\n",
        "        return item\n",
        "\n",
        "    def __len__(self):\n",
        "        return len(self.encodings.input_ids)"
      ]
    },
    {
      "cell_type": "code",
      "execution_count": 8,
      "metadata": {
        "id": "jJY7ujLgt6i6"
      },
      "outputs": [],
      "source": [
        "train_dataset = NewsSummaryDataset(train_encodings, train_labels)\n",
        "test_dataset = NewsSummaryDataset(test_encodings, test_labels)"
      ]
    },
    {
      "cell_type": "code",
      "execution_count": 9,
      "metadata": {
        "colab": {
          "base_uri": "https://localhost:8080/"
        },
        "id": "4Crt0J9VuGUR",
        "outputId": "a2d1ac51-f863-4618-b80e-ca52bd95e971"
      },
      "outputs": [
        {
          "output_type": "stream",
          "name": "stderr",
          "text": [
            "<ipython-input-9-0ca4934e7356>:1: FutureWarning: load_metric is deprecated and will be removed in the next major version of datasets. Use 'evaluate.load' instead, from the new library 🤗 Evaluate: https://huggingface.co/docs/evaluate\n",
            "  bleu_metric = load_metric('bleu', trust_remote_code=True)\n"
          ]
        }
      ],
      "source": [
        "bleu_metric = load_metric('bleu', trust_remote_code=True)\n",
        "rouge_metric = load_metric('rouge', trust_remote_code=True)\n",
        "\n",
        "def compute_metrics(eval_pred):\n",
        "    predictions, labels = eval_pred\n",
        "    decoded_preds = tokenizer.batch_decode(predictions, skip_special_tokens=True)\n",
        "    decoded_labels = [[label] for label in tokenizer.batch_decode(labels, skip_special_tokens=True)]\n",
        "    bleu_result = bleu_metric.compute(predictions=[decoded_preds], references=decoded_labels)\n",
        "    rouge_result = rouge_metric.compute(predictions=decoded_preds, references=decoded_labels)\n",
        "    result = {\n",
        "        'bleu': bleu_result['bleu'],\n",
        "        'rouge1': rouge_result['rouge1'].mid.fmeasure,\n",
        "        'rouge2': rouge_result['rouge2'].mid.fmeasure,\n",
        "        'rougeL': rouge_result['rougeL'].mid.fmeasure,\n",
        "        'rougeLsum': rouge_result['rougeLsum'].mid.fmeasure,\n",
        "    }\n",
        "    return result"
      ]
    },
    {
      "cell_type": "code",
      "execution_count": null,
      "metadata": {
        "colab": {
          "base_uri": "https://localhost:8080/",
          "height": 217
        },
        "id": "yL92sEd9t-tN",
        "outputId": "ae9b0dda-7297-496a-8ce3-fa7bc37c35f7"
      },
      "outputs": [
        {
          "output_type": "stream",
          "name": "stderr",
          "text": [
            "/usr/local/lib/python3.10/dist-packages/accelerate/accelerator.py:432: FutureWarning: Passing the following arguments to `Accelerator` is deprecated and will be removed in version 1.0 of Accelerate: dict_keys(['dispatch_batches', 'split_batches', 'even_batches', 'use_seedable_sampler']). Please pass an `accelerate.DataLoaderConfiguration` instead: \n",
            "dataloader_config = DataLoaderConfiguration(dispatch_batches=None, split_batches=False, even_batches=True, use_seedable_sampler=True)\n",
            "  warnings.warn(\n",
            "<ipython-input-7-d82134d6fe98>:7: UserWarning: To copy construct from a tensor, it is recommended to use sourceTensor.clone().detach() or sourceTensor.clone().detach().requires_grad_(True), rather than torch.tensor(sourceTensor).\n",
            "  item = {key: torch.tensor(val[idx]) for key, val in self.encodings.items()}\n",
            "<ipython-input-7-d82134d6fe98>:8: UserWarning: To copy construct from a tensor, it is recommended to use sourceTensor.clone().detach() or sourceTensor.clone().detach().requires_grad_(True), rather than torch.tensor(sourceTensor).\n",
            "  item['labels'] = torch.tensor(self.labels['input_ids'][idx])\n"
          ]
        },
        {
          "output_type": "display_data",
          "data": {
            "text/plain": [
              "<IPython.core.display.HTML object>"
            ],
            "text/html": [
              "\n",
              "    <div>\n",
              "      \n",
              "      <progress value='4' max='1579' style='width:300px; height:20px; vertical-align: middle;'></progress>\n",
              "      [   4/1579 02:22 < 31:09:23, 0.01 it/s, Epoch 0.00/1]\n",
              "    </div>\n",
              "    <table border=\"1\" class=\"dataframe\">\n",
              "  <thead>\n",
              " <tr style=\"text-align: left;\">\n",
              "      <th>Step</th>\n",
              "      <th>Training Loss</th>\n",
              "    </tr>\n",
              "  </thead>\n",
              "  <tbody>\n",
              "  </tbody>\n",
              "</table><p>"
            ]
          },
          "metadata": {}
        }
      ],
      "source": [
        "training_args = TrainingArguments(\n",
        "    output_dir='./results',\n",
        "    num_train_epochs=1,\n",
        "    per_device_train_batch_size=2,\n",
        "    per_device_eval_batch_size=2,\n",
        "    warmup_steps=50,\n",
        "    weight_decay=0.1,\n",
        "    logging_dir='./logs',\n",
        "    evaluation_strategy=\"no\",\n",
        "    save_strategy=\"epoch\",\n",
        "    load_best_model_at_end=False,\n",
        "    fp16=False,\n",
        "    gradient_accumulation_steps=2,\n",
        "    logging_steps=100\n",
        ")\n",
        "\n",
        "trainer = Trainer(\n",
        "    model=model,\n",
        "    args=training_args,\n",
        "    train_dataset=train_dataset,\n",
        "    eval_dataset=test_dataset,\n",
        "    compute_metrics=compute_metrics\n",
        ")\n",
        "\n",
        "trainer.train()"
      ]
    },
    {
      "cell_type": "markdown",
      "source": [
        "### Task 2\n",
        "\n",
        "We can model the Go game as a MDP as follows:\n",
        "\n",
        "- **State Space**: Each state can be defined as the configuration of stones on the board. Given a standard 19x19 Go board, each intersection can be empty, have a black stone, or have a white stone, which is 3^361 states.\n",
        "\n",
        "- **Action Space**: For any given state, the actions include placing one's stone on any empty point of the board, except those moves that violate Go rules. Hence, the size of the action space varies as the game progresses but is at most the number of intersections on the board.\n",
        "\n",
        "- **Transition Model**: The outcome of each move is deterministic as the change on the board after placing a stone is predictable. But we need to add uncertainty due toi the opponent's behavior and corresponding responses.\n",
        "\n",
        "- **Rewards**: The winner receives a positive reward, while the loser receives a negative reward. The intermediate rewards are given when controlling a larger portion of the board, capturing more of the opponent's stones, and improving one's own survivability.\n",
        "\n",
        "### Task 3\n",
        "\n",
        "AlphaGo and its subsequent versions (like AlphaGo Zero and AlphaZero) are the most notable examples. They learned Go strategies from scratch by playing games against themselves, eventually achieving levels beyond top human professional players.\n",
        "\n",
        "- **Problem Addressed**: The main challenge in Go is the game's vast decision space and the complexity of its rules. The application of reinforcement learning here is to develop algorithms that can learn how to choose the optimal action in any given state, thereby autonomously learning and improving Go skills without the need for human knowledge input.\n",
        "\n",
        "- **Open-source Project**: AlphaGo Zero is a famous project that applied deep reinforcement learning techniques. While its detailed implementation is not entirely open source, Google DeepMind has published numerous research papers related to it [1]. These papers provide the theoretical basis and insights for researchers in Go and other fields to implement such types of algorithms. Based on this, several open-source projects have attempted to replicate or are inspired by AlphaGo Zero's approach, fostering further innovation and development in applying reinforcement learning to Go and beyond [2]."
      ],
      "metadata": {
        "id": "t2T_wxAcseq6"
      }
    },
    {
      "cell_type": "markdown",
      "source": [
        "### References:\n",
        "\n",
        "[1] Holcomb, Sean D., et al. \"Overview on deepmind and its alphago zero ai.\" Proceedings of the 2018 international conference on big data and education. 2018.\n",
        "\n",
        "[2] Lapan, Maxim. Deep Reinforcement Learning Hands-On: Apply modern RL methods, with deep Q-networks, value iteration, policy gradients, TRPO, AlphaGo Zero and more. Packt Publishing Ltd, 2018."
      ],
      "metadata": {
        "id": "1TttqXCtxnM2"
      }
    }
  ],
  "metadata": {
    "colab": {
      "provenance": []
    },
    "kernelspec": {
      "display_name": "Python 3",
      "name": "python3"
    },
    "language_info": {
      "name": "python"
    }
  },
  "nbformat": 4,
  "nbformat_minor": 0
}